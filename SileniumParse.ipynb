{
 "cells": [
  {
   "cell_type": "code",
   "execution_count": 166,
   "id": "e71b0538",
   "metadata": {},
   "outputs": [],
   "source": [
    "from selenium.webdriver import Chrome\n",
    "from selenium.webdriver.common.keys import Keys\n",
    "from selenium.webdriver.support.ui import WebDriverWait as wait\n",
    "from selenium.webdriver.support import expected_conditions as EC\n",
    "from selenium.common.exceptions import NoSuchElementException\n",
    "from selenium.webdriver.common.by import By\n",
    "from bs4 import BeautifulSoup\n",
    "from time import sleep\n",
    "from tqdm import tqdm\n",
    "from selenium import webdriver"
   ]
  },
  {
   "cell_type": "code",
   "execution_count": 167,
   "id": "1d5fea58",
   "metadata": {},
   "outputs": [
    {
     "name": "stderr",
     "output_type": "stream",
     "text": [
      "/var/folders/57/ktbcph4s7mj5xcpp1yfwtlyw0000gn/T/ipykernel_53016/2494245205.py:1: DeprecationWarning: executable_path has been deprecated, please pass in a Service object\n",
      "  browser = Chrome('/Users/simonkunitsyn/Downloads/chromedriver')\n"
     ]
    }
   ],
   "source": [
    "browser = Chrome('/Users/simonkunitsyn/Downloads/chromedriver')\n",
    "url = 'https://bus.gov.ru/registry'\n",
    "browser.get(url)\n",
    "sleep(7)\n",
    "inputTab = browser.find_element(By.XPATH, '/html/body/div[2]/ui-view/ui-view-ng-upgrade/ui-view/app-registry/app-registry-filter/form/div[1]/div[1]/label/div[2]/input')\n",
    "# Как найти ссылку по тексту\n",
    "\n",
    "# browser.find_element(By.LINK_TEXT, \"Информация об учреждениях\").get_attribute('href')\n",
    "inputTab\n",
    "sleep(1)\n",
    "# Вводим данные в строку для ввода\n",
    "inputTab.send_keys(\"Онкологический диспансер\")\n",
    "sleep(1)\n",
    "# Тыкаем по кнопке показать\n",
    "button =browser.find_element(By.XPATH, \"/html/body/div[2]/ui-view/ui-view-ng-upgrade/ui-view/app-registry/app-registry-filter/form/div[2]/div/div[2]/div/button\")\n",
    "button.click()\n",
    "\n",
    "## Имитация нажатия кнопки \"ENTER\"\n",
    "\n",
    "## inputTab.send_keys(Keys.ENTER)\n",
    "\n",
    "# Выкачка названий и ссылок\n",
    "soup = BeautifulSoup(browser.page_source, 'lxml')\n",
    "soup.find('a',class_ = 'result__title').text.strip()\n",
    "# browser.find_element(By.XPATH, \"/html/body/div[2]/ui-view/ui-view-ng-upgrade/ui-view/app-registry/div[2]/div/div[2]/div/div[1]/div/div[2]/div/a[1]\").get_attribute('href')\n",
    "items = soup.findAll(\"div\", class_ = 'result ng-star-inserted')\n",
    "data = []\n",
    "for item in items:\n",
    "    name = item.find('a',class_ = 'result__title').text.strip()\n",
    "    link = \"https://bus.gov.ru/\"+ item.find('a', class_ = \"result__button\").get('href')\n",
    "    data.append([name,link])"
   ]
  },
  {
   "cell_type": "code",
   "execution_count": 169,
   "id": "43ab8e46",
   "metadata": {},
   "outputs": [
    {
     "data": {
      "text/html": [
       "<div>\n",
       "<style scoped>\n",
       "    .dataframe tbody tr th:only-of-type {\n",
       "        vertical-align: middle;\n",
       "    }\n",
       "\n",
       "    .dataframe tbody tr th {\n",
       "        vertical-align: top;\n",
       "    }\n",
       "\n",
       "    .dataframe thead th {\n",
       "        text-align: right;\n",
       "    }\n",
       "</style>\n",
       "<table border=\"1\" class=\"dataframe\">\n",
       "  <thead>\n",
       "    <tr style=\"text-align: right;\">\n",
       "      <th></th>\n",
       "      <th>name</th>\n",
       "      <th>link</th>\n",
       "    </tr>\n",
       "  </thead>\n",
       "  <tbody>\n",
       "    <tr>\n",
       "      <th>0</th>\n",
       "      <td>АВТОНОМНОЕ УЧРЕЖДЕНИЕ ЧУВАШСКОЙ РЕСПУБЛИКИ \"РЕ...</td>\n",
       "      <td>https://bus.gov.ru//agency/22908/register-info</td>\n",
       "    </tr>\n",
       "    <tr>\n",
       "      <th>1</th>\n",
       "      <td>БЮДЖЕТНОЕ УЧРЕЖДЕНИЕ ЗДРАВООХРАНЕНИЯ ВОЛОГОДСК...</td>\n",
       "      <td>https://bus.gov.ru//agency/39579/register-info</td>\n",
       "    </tr>\n",
       "    <tr>\n",
       "      <th>2</th>\n",
       "      <td>БЮДЖЕТНОЕ УЧРЕЖДЕНИЕ ЗДРАВООХРАНЕНИЯ ВОРОНЕЖСК...</td>\n",
       "      <td>https://bus.gov.ru//agency/65598/register-info</td>\n",
       "    </tr>\n",
       "    <tr>\n",
       "      <th>3</th>\n",
       "      <td>БЮДЖЕТНОЕ УЧРЕЖДЕНИЕ ЗДРАВООХРАНЕНИЯ ОМСКОЙ ОБ...</td>\n",
       "      <td>https://bus.gov.ru//agency/51518/register-info</td>\n",
       "    </tr>\n",
       "    <tr>\n",
       "      <th>4</th>\n",
       "      <td>БЮДЖЕТНОЕ УЧРЕЖДЕНИЕ ЗДРАВООХРАНЕНИЯ ОРЛОВСКОЙ...</td>\n",
       "      <td>https://bus.gov.ru//agency/80338/register-info</td>\n",
       "    </tr>\n",
       "    <tr>\n",
       "      <th>5</th>\n",
       "      <td>БЮДЖЕТНОЕ УЧРЕЖДЕНИЕ ЗДРАВООХРАНЕНИЯ  УДМУРТСК...</td>\n",
       "      <td>https://bus.gov.ru//agency/63712/register-info</td>\n",
       "    </tr>\n",
       "    <tr>\n",
       "      <th>6</th>\n",
       "      <td>БЮДЖЕТНОЕ  УЧРЕЖДЕНИЕ РЕСПУБЛИКИ КАЛМЫКИЯ \"РЕС...</td>\n",
       "      <td>https://bus.gov.ru//agency/122170/register-info</td>\n",
       "    </tr>\n",
       "    <tr>\n",
       "      <th>7</th>\n",
       "      <td>БЮДЖЕТНОЕ УЧРЕЖДЕНИЕ ХАНТЫ-МАНСИЙСКОГО АВТОНОМ...</td>\n",
       "      <td>https://bus.gov.ru//agency/70466/register-info</td>\n",
       "    </tr>\n",
       "    <tr>\n",
       "      <th>8</th>\n",
       "      <td>ГОСУДАРСТВЕННОЕ АВТОНОМНОЕ УЧРЕЖДЕНИЕ ЗДРАВООХ...</td>\n",
       "      <td>https://bus.gov.ru//agency/174491/register-info</td>\n",
       "    </tr>\n",
       "    <tr>\n",
       "      <th>9</th>\n",
       "      <td>ГОСУДАРСТВЕННОЕ АВТОНОМНОЕ УЧРЕЖДЕНИЕ ЗДРАВООХ...</td>\n",
       "      <td>https://bus.gov.ru//agency/278734/register-info</td>\n",
       "    </tr>\n",
       "  </tbody>\n",
       "</table>\n",
       "</div>"
      ],
      "text/plain": [
       "                                                name  \\\n",
       "0  АВТОНОМНОЕ УЧРЕЖДЕНИЕ ЧУВАШСКОЙ РЕСПУБЛИКИ \"РЕ...   \n",
       "1  БЮДЖЕТНОЕ УЧРЕЖДЕНИЕ ЗДРАВООХРАНЕНИЯ ВОЛОГОДСК...   \n",
       "2  БЮДЖЕТНОЕ УЧРЕЖДЕНИЕ ЗДРАВООХРАНЕНИЯ ВОРОНЕЖСК...   \n",
       "3  БЮДЖЕТНОЕ УЧРЕЖДЕНИЕ ЗДРАВООХРАНЕНИЯ ОМСКОЙ ОБ...   \n",
       "4  БЮДЖЕТНОЕ УЧРЕЖДЕНИЕ ЗДРАВООХРАНЕНИЯ ОРЛОВСКОЙ...   \n",
       "5  БЮДЖЕТНОЕ УЧРЕЖДЕНИЕ ЗДРАВООХРАНЕНИЯ  УДМУРТСК...   \n",
       "6  БЮДЖЕТНОЕ  УЧРЕЖДЕНИЕ РЕСПУБЛИКИ КАЛМЫКИЯ \"РЕС...   \n",
       "7  БЮДЖЕТНОЕ УЧРЕЖДЕНИЕ ХАНТЫ-МАНСИЙСКОГО АВТОНОМ...   \n",
       "8  ГОСУДАРСТВЕННОЕ АВТОНОМНОЕ УЧРЕЖДЕНИЕ ЗДРАВООХ...   \n",
       "9  ГОСУДАРСТВЕННОЕ АВТОНОМНОЕ УЧРЕЖДЕНИЕ ЗДРАВООХ...   \n",
       "\n",
       "                                              link  \n",
       "0   https://bus.gov.ru//agency/22908/register-info  \n",
       "1   https://bus.gov.ru//agency/39579/register-info  \n",
       "2   https://bus.gov.ru//agency/65598/register-info  \n",
       "3   https://bus.gov.ru//agency/51518/register-info  \n",
       "4   https://bus.gov.ru//agency/80338/register-info  \n",
       "5   https://bus.gov.ru//agency/63712/register-info  \n",
       "6  https://bus.gov.ru//agency/122170/register-info  \n",
       "7   https://bus.gov.ru//agency/70466/register-info  \n",
       "8  https://bus.gov.ru//agency/174491/register-info  \n",
       "9  https://bus.gov.ru//agency/278734/register-info  "
      ]
     },
     "execution_count": 169,
     "metadata": {},
     "output_type": "execute_result"
    }
   ],
   "source": [
    "import pandas as pd\n",
    "DF = pd.DataFrame(data = data)\n",
    "DF.columns = ([\"name\",\"link\"])\n",
    "DF.to_excel(\"orgs.xlsx\")"
   ]
  },
  {
   "cell_type": "code",
   "execution_count": 170,
   "id": "d18b27ab",
   "metadata": {},
   "outputs": [],
   "source": []
  },
  {
   "cell_type": "code",
   "execution_count": null,
   "id": "192ee81c",
   "metadata": {},
   "outputs": [],
   "source": []
  },
  {
   "cell_type": "code",
   "execution_count": null,
   "id": "84461a54",
   "metadata": {},
   "outputs": [],
   "source": []
  },
  {
   "cell_type": "code",
   "execution_count": null,
   "id": "01f8a410",
   "metadata": {},
   "outputs": [],
   "source": []
  },
  {
   "cell_type": "code",
   "execution_count": null,
   "id": "07ed85d5",
   "metadata": {
    "scrolled": true
   },
   "outputs": [],
   "source": []
  },
  {
   "cell_type": "code",
   "execution_count": null,
   "id": "6cc76b6f",
   "metadata": {},
   "outputs": [],
   "source": []
  },
  {
   "cell_type": "code",
   "execution_count": null,
   "id": "b6bb349a",
   "metadata": {},
   "outputs": [],
   "source": []
  },
  {
   "cell_type": "code",
   "execution_count": null,
   "id": "f44ffa74",
   "metadata": {},
   "outputs": [],
   "source": []
  },
  {
   "cell_type": "code",
   "execution_count": null,
   "id": "863c9cc0",
   "metadata": {},
   "outputs": [],
   "source": []
  },
  {
   "cell_type": "code",
   "execution_count": null,
   "id": "2f5ea72f",
   "metadata": {},
   "outputs": [],
   "source": []
  },
  {
   "cell_type": "code",
   "execution_count": null,
   "id": "f0d07729",
   "metadata": {},
   "outputs": [],
   "source": []
  },
  {
   "cell_type": "code",
   "execution_count": null,
   "id": "8e882fd5",
   "metadata": {},
   "outputs": [],
   "source": []
  },
  {
   "cell_type": "code",
   "execution_count": null,
   "id": "21a7ec5e",
   "metadata": {},
   "outputs": [],
   "source": []
  },
  {
   "cell_type": "code",
   "execution_count": null,
   "id": "76bfd8b8",
   "metadata": {},
   "outputs": [],
   "source": []
  },
  {
   "cell_type": "code",
   "execution_count": null,
   "id": "a5ab6f30",
   "metadata": {},
   "outputs": [],
   "source": []
  },
  {
   "cell_type": "code",
   "execution_count": null,
   "id": "b56220b6",
   "metadata": {},
   "outputs": [],
   "source": []
  },
  {
   "cell_type": "code",
   "execution_count": null,
   "id": "8a7c27a0",
   "metadata": {},
   "outputs": [],
   "source": []
  },
  {
   "cell_type": "code",
   "execution_count": null,
   "id": "11704beb",
   "metadata": {},
   "outputs": [],
   "source": []
  },
  {
   "cell_type": "code",
   "execution_count": null,
   "id": "88cf454d",
   "metadata": {},
   "outputs": [],
   "source": []
  },
  {
   "cell_type": "code",
   "execution_count": null,
   "id": "a4d73d7f",
   "metadata": {},
   "outputs": [],
   "source": []
  },
  {
   "cell_type": "code",
   "execution_count": null,
   "id": "eecc3035",
   "metadata": {},
   "outputs": [],
   "source": []
  },
  {
   "cell_type": "code",
   "execution_count": null,
   "id": "158a01eb",
   "metadata": {},
   "outputs": [],
   "source": []
  }
 ],
 "metadata": {
  "kernelspec": {
   "display_name": "Python 3 (ipykernel)",
   "language": "python",
   "name": "python3"
  },
  "language_info": {
   "codemirror_mode": {
    "name": "ipython",
    "version": 3
   },
   "file_extension": ".py",
   "mimetype": "text/x-python",
   "name": "python",
   "nbconvert_exporter": "python",
   "pygments_lexer": "ipython3",
   "version": "3.9.12"
  }
 },
 "nbformat": 4,
 "nbformat_minor": 5
}
